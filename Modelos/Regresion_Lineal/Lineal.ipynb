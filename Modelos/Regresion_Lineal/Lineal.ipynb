{
 "cells": [
  {
   "cell_type": "markdown",
   "metadata": {},
   "source": [
    "Agregamos primero importe de la librerias necesaria"
   ]
  },
  {
   "cell_type": "code",
   "execution_count": null,
   "metadata": {},
   "outputs": [
    {
     "ename": "",
     "evalue": "",
     "output_type": "error",
     "traceback": [
      "\u001b[1;31mLa ejecución de celdas con 'base (Python 3.12.3)' requiere el paquete ipykernel.\n",
      "\u001b[1;31mEjecute el siguiente comando para instalar 'ipykernel' en el entorno de Python. comando \n",
      "\u001b[1;31m: 'conda install -n base ipykernel --update-deps --force-reinstall'"
     ]
    }
   ],
   "source": [
    "import pandas as pd\n",
    "import numpy as np\n",
    "import matplotlib.pyplot as plt\n",
    "import seaborn as sns\n",
    "from sklearn.model_selection import train_test_split\n",
    "from sklearn.linear_model import LinearRegression\n",
    "from sklearn.metrics import mean_squared_error, r2_score\n"
   ]
  },
  {
   "cell_type": "markdown",
   "metadata": {},
   "source": [
    "Unificacion de archivos csv en un dataframe para realizar un analisis completo, asi como validar y unificar titulos y tipos de datos"
   ]
  },
  {
   "cell_type": "code",
   "execution_count": null,
   "metadata": {},
   "outputs": [],
   "source": [
    "# Cargar los archivos\n",
    "df1 = pd.read_csv(\"Data\\\\car data.csv\")\n",
    "df2 = pd.read_csv(\"Data\\\\CAR DETAILS FROM CAR DEKHO.csv\")\n",
    "df3 = pd.read_csv(\"Data\\\\Car details v3.csv\")\n",
    "df4 = pd.read_csv(\"Data\\\\car details v4.csv\")\n",
    "\n",
    "# Renombrar columnas para unificación\n",
    "df1.rename(columns={\"Car_Name\": \"name\", \"Year\": \"year\", \"Selling_Price\": \"selling_price\", \"Present_Price\": \"present_price\", \n",
    "                    \"Kms_Driven\": \"km_driven\", \"Fuel_Type\": \"fuel\", \"Seller_Type\": \"seller_type\", \n",
    "                    \"Transmission\": \"transmission\", \"Owner\": \"owner\"}, inplace=True)\n",
    "\n",
    "df2.rename(columns={\"year\": \"year\", \"selling_price\": \"selling_price\", \"km_driven\": \"km_driven\", \"fuel\": \"fuel\", \n",
    "                    \"seller_type\": \"seller_type\", \"transmission\": \"transmission\", \"owner\": \"owner\"}, inplace=True)\n",
    "\n",
    "df3.rename(columns={\"year\": \"year\", \"selling_price\": \"selling_price\", \"km_driven\": \"km_driven\", \"fuel\": \"fuel\", \n",
    "                    \"seller_type\": \"seller_type\", \"transmission\": \"transmission\", \"owner\": \"owner\"}, inplace=True)\n",
    "\n",
    "df4.rename(columns={\"Make\": \"make\", \"Model\": \"name\", \"Price\": \"selling_price\", \"Year\": \"year\", \"Kilometer\": \"km_driven\", \n",
    "                    \"Fuel Type\": \"fuel\", \"Transmission\": \"transmission\", \"Owner\": \"owner\", \"Seller Type\": \"seller_type\"}, inplace=True)\n",
    "\n",
    "# Concatenar los DataFrames\n",
    "data = pd.concat([df1, df2, df3, df4], ignore_index=True)\n",
    "\n",
    "print(data)\n"
   ]
  },
  {
   "cell_type": "code",
   "execution_count": 8,
   "metadata": {},
   "outputs": [],
   "source": [
    "# Eliminar duplicados\n",
    "data.drop_duplicates(inplace=True)\n",
    "\n",
    "# Eliminar filas con valores nulos o reemplazarlos si es necesario\n",
    "data.dropna(subset=[\"selling_price\", \"km_driven\", \"fuel\", \"seller_type\", \"transmission\", \"owner\"], inplace=True)\n",
    "\n",
    "# Convertir las columnas necesarias a tipos numéricos (por ejemplo, año)\n",
    "data[\"year\"] = pd.to_numeric(data[\"year\"], errors='coerce')\n",
    "data.dropna(subset=[\"year\"], inplace=True)\n"
   ]
  },
  {
   "cell_type": "code",
   "execution_count": null,
   "metadata": {},
   "outputs": [],
   "source": [
    "sns.histplot(data['selling_price'], kde=True)\n",
    "plt.title(\"Distribución de Precios de Venta\")\n",
    "plt.show()\n"
   ]
  },
  {
   "cell_type": "markdown",
   "metadata": {},
   "source": []
  },
  {
   "cell_type": "code",
   "execution_count": null,
   "metadata": {},
   "outputs": [],
   "source": [
    "plt.figure(figsize=(12, 6))\n",
    "sns.boxplot(data['selling_price'])\n",
    "plt.title(\"Valores Atípicos en Precios de Venta\")\n",
    "plt.show()\n",
    "\n",
    "plt.figure(figsize=(12, 6))\n",
    "sns.boxplot(data['km_driven'])\n",
    "plt.title(\"Valores Atípicos en Kilómetros Recorridos\")\n",
    "plt.show()\n"
   ]
  }
 ],
 "metadata": {
  "kernelspec": {
   "display_name": "base",
   "language": "python",
   "name": "python3"
  },
  "language_info": {
   "codemirror_mode": {
    "name": "ipython",
    "version": 3
   },
   "file_extension": ".py",
   "mimetype": "text/x-python",
   "name": "python",
   "nbconvert_exporter": "python",
   "pygments_lexer": "ipython3",
   "version": "3.12.3"
  }
 },
 "nbformat": 4,
 "nbformat_minor": 2
}
